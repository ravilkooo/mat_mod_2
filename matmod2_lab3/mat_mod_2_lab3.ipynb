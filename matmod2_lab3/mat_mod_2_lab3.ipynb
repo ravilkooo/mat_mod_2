{
 "cells": [
  {
   "cell_type": "code",
   "execution_count": 1,
   "metadata": {},
   "outputs": [],
   "source": [
    "import numpy as np\n",
    "import matplotlib.pyplot as plt\n",
    "\n",
    "from mpl_toolkits import mplot3d\n",
    "from matplotlib import cm\n",
    "\n",
    "import matplotlib as mpl\n",
    "from mpl_toolkits.mplot3d.axes3d import Axes3D\n",
    "from mpl_toolkits.mplot3d import proj3d"
   ]
  },
  {
   "cell_type": "markdown",
   "metadata": {},
   "source": [
    "### функции"
   ]
  },
  {
   "cell_type": "code",
   "execution_count": 2,
   "metadata": {},
   "outputs": [],
   "source": [
    "def analyze(i):\n",
    "    x = np.loadtxt(f'matmod2_lab3//{i}_X.txt') #[:-1]\n",
    "    y = np.loadtxt(f'matmod2_lab3//{i}_Y.txt')\n",
    "    z = np.loadtxt(f'matmod2_lab3//{i}_Z.txt') #[:,:-1]\n",
    "    X, Y = np.meshgrid(x, y)\n",
    "    fig = plt.figure(figsize=(12,12))\n",
    "    ax = fig.add_subplot(2, 2, 1, projection='3d')\n",
    "    surf = ax.plot_surface(X, Y, z, rstride=1, cstride=1,  cmap='plasma')\n",
    "    ax.set_xlabel('x')\n",
    "    ax.set_ylabel('y')\n",
    "    ax.set_zlabel('z')\n",
    "    ax.view_init(elev=30., azim=25, roll=0)\n",
    "\n",
    "    ax = fig.add_subplot(2, 2, 2, projection='3d')\n",
    "    surf = ax.plot_surface(X, Y, z,  rstride=1, cstride=1)\n",
    "    ax.set_xlabel('x')\n",
    "    ax.set_ylabel('y')\n",
    "    ax.set_zlabel('z')\n",
    "    ax.view_init(elev=30., azim=75, roll=0)\n",
    "\n",
    "    ax = fig.add_subplot(2, 2, 3, projection='3d')\n",
    "    surf = ax.plot_surface(X, Y, z, rstride=1, cstride=1, )\n",
    "    ax.set_xlabel('x')\n",
    "    ax.set_ylabel('y')\n",
    "    ax.set_zlabel('z')\n",
    "    ax.view_init(elev=0., azim=90, roll=0)\n",
    "\n",
    "    ax = fig.add_subplot(2, 2, 4, projection='3d')\n",
    "    surf = ax.plot_surface(X, Y, z,  rstride=1, cstride=1, )\n",
    "    ax.set_xlabel('x')\n",
    "    ax.set_ylabel('y')\n",
    "    ax.set_zlabel('z')\n",
    "    ax.view_init(elev=0., azim=0, roll=0)\n",
    "\n",
    "    _a = \"N1 M L x_PML y_0 k_0 eps\".split()\n",
    "    _b = list(map(str, np.loadtxt(f'matmod2_lab3//{i}_data.txt')))\n",
    "    plt.suptitle(', '.join([f'{a} = {_b[i]}' for (i,a) in enumerate(_a)]))\n",
    "    plt.tight_layout()\n",
    "    plt.show()\n",
    "    return x,y,z"
   ]
  },
  {
   "cell_type": "code",
   "execution_count": 3,
   "metadata": {},
   "outputs": [],
   "source": [
    "def analyze_eigen(i):\n",
    "    x = np.loadtxt(f'matmod2_lab3//{i}_eigen_X.txt') #[:-1]\n",
    "    y = np.loadtxt(f'matmod2_lab3//{i}_eigen_Y.txt')\n",
    "    z = np.loadtxt(f'matmod2_lab3//{i}_eigen_Z.txt') #[:,:-1]\n",
    "    X, Y = np.meshgrid(x, y)\n",
    "    fig = plt.figure(figsize=(12,12))\n",
    "    ax = fig.add_subplot(2, 2, 1, projection='3d')\n",
    "    surf = ax.plot_surface(X, Y, z, rstride=1, cstride=1,  cmap='plasma')\n",
    "    ax.set_xlabel('x')\n",
    "    ax.set_ylabel('y')\n",
    "    ax.set_zlabel('z')\n",
    "    ax.view_init(elev=30., azim=-25, roll=0)\n",
    "\n",
    "    ax = fig.add_subplot(2, 2, 2, projection='3d')\n",
    "    surf = ax.plot_surface(X, Y, z,  rstride=1, cstride=1)\n",
    "    ax.set_xlabel('x')\n",
    "    ax.set_ylabel('y')\n",
    "    ax.set_zlabel('z')\n",
    "    ax.view_init(elev=30., azim=-75, roll=0)\n",
    "\n",
    "    ax = fig.add_subplot(2, 2, 3, projection='3d')\n",
    "    surf = ax.plot_surface(X, Y, z, rstride=1, cstride=1, )\n",
    "    ax.set_xlabel('x')\n",
    "    ax.set_ylabel('y')\n",
    "    ax.set_zlabel('z')\n",
    "    ax.view_init(elev=0., azim=-90, roll=0)\n",
    "\n",
    "    ax = fig.add_subplot(2, 2, 4, projection='3d')\n",
    "    surf = ax.plot_surface(X, Y, z,  rstride=1, cstride=1, )\n",
    "    ax.set_xlabel('x')\n",
    "    ax.set_ylabel('y')\n",
    "    ax.set_zlabel('z')\n",
    "    ax.view_init(elev=0., azim=0, roll=0)\n",
    "\n",
    "    _a = \"N1 M L x_PML y_0 k_0 eps\".split()\n",
    "    _b = list(map(str, np.loadtxt(f'matmod2_lab3//{i}_eigen_data.txt')))\n",
    "    labels = [f'{a} = {_b[i]}' for (i,a) in enumerate(_a)]\n",
    "    line1 = ', '.join(labels[:2])\n",
    "    line2 = ', '.join(labels[2:4])\n",
    "    line3 = ', '.join(labels[4:])\n",
    "    plt.suptitle('\\n'.join([line1,line2,line3]))\n",
    "    plt.tight_layout()\n",
    "    plt.show()\n",
    "    return x,y,z"
   ]
  },
  {
   "cell_type": "code",
   "execution_count": 4,
   "metadata": {},
   "outputs": [],
   "source": [
    "def analyze_eigen_2(i, x_lim_frac):\n",
    "    x = np.loadtxt(f'matmod2_lab3//{i}_eigen_X.txt') #[:-1]\n",
    "    x_lim_idx = int(x_lim_frac * x.shape[0])\n",
    "    x = x[:x_lim_idx]\n",
    "    y = np.loadtxt(f'matmod2_lab3//{i}_eigen_Y.txt')\n",
    "    z = np.loadtxt(f'matmod2_lab3//{i}_eigen_Z.txt')[:,:x_lim_idx] #[:,:-1]\n",
    "    X, Y = np.meshgrid(x, y)\n",
    "    fig = plt.figure(figsize=(12,12))\n",
    "    ax = fig.add_subplot(2, 2, 1, projection='3d')\n",
    "    surf = ax.plot_surface(X, Y, z, rstride=1, cstride=1,  cmap='plasma')\n",
    "    ax.set_xlabel('x')\n",
    "    ax.set_ylabel('y')\n",
    "    ax.set_zlabel('z')\n",
    "    ax.view_init(elev=30., azim=-25, roll=0)\n",
    "\n",
    "    ax = fig.add_subplot(2, 2, 2, projection='3d')\n",
    "    surf = ax.plot_surface(X, Y, z,  rstride=1, cstride=1)\n",
    "    ax.set_xlabel('x')\n",
    "    ax.set_ylabel('y')\n",
    "    ax.set_zlabel('z')\n",
    "    ax.view_init(elev=30., azim=-75, roll=0)\n",
    "\n",
    "    ax = fig.add_subplot(2, 2, 3, projection='3d')\n",
    "    surf = ax.plot_surface(X, Y, z, rstride=1, cstride=1, )\n",
    "    ax.set_xlabel('x')\n",
    "    ax.set_ylabel('y')\n",
    "    ax.set_zlabel('z')\n",
    "    ax.view_init(elev=0., azim=-90, roll=0)\n",
    "\n",
    "    ax = fig.add_subplot(2, 2, 4, projection='3d')\n",
    "    surf = ax.plot_surface(X, Y, z,  rstride=1, cstride=1, )\n",
    "    ax.set_xlabel('x')\n",
    "    ax.set_ylabel('y')\n",
    "    ax.set_zlabel('z')\n",
    "    ax.view_init(elev=0., azim=0, roll=0)\n",
    "\n",
    "    _a = \"N1 M L x_PML y_0 k_0 eps\".split()\n",
    "    _b = list(map(str, np.loadtxt(f'matmod2_lab3//{i}_eigen_data.txt')))\n",
    "    labels = [f'{a} = {_b[i]}' for (i,a) in enumerate(_a)]\n",
    "    line1 = ', '.join(labels[:2])\n",
    "    line2 = ', '.join(labels[2:4])\n",
    "    line3 = ', '.join(labels[4:])\n",
    "    plt.suptitle('\\n'.join([line1,line2,line3]))\n",
    "    plt.tight_layout()\n",
    "    plt.show()\n",
    "    return x,y,z"
   ]
  },
  {
   "cell_type": "code",
   "execution_count": 5,
   "metadata": {},
   "outputs": [],
   "source": [
    "def analyze_eigen_3(i, x_lim_frac):\n",
    "    x = np.loadtxt(f'matmod2_lab3//{i}_eigen_X.txt') #[:-1]\n",
    "    x_lim_idx = int(x_lim_frac * x.shape[0])\n",
    "    x = x[:x_lim_idx]\n",
    "    y = np.loadtxt(f'matmod2_lab3//{i}_eigen_Y.txt')\n",
    "    z = np.loadtxt(f'matmod2_lab3//{i}_eigen_Z.txt')[:,:x_lim_idx] #[:,:-1]\n",
    "    # X, Y = np.meshgrid(x, y)\n",
    "    fig = plt.figure(figsize=(12,4))\n",
    "    ax = fig.add_subplot(1, 3, 1)\n",
    "    ax.plot(y, z[:,0])\n",
    "    ax.set_xlabel('y')\n",
    "    ax.set_ylim(-0.1,0.1)\n",
    "    ax.set_ylabel('z')\n",
    "\n",
    "    ax = fig.add_subplot(1, 3, 2)\n",
    "    ax.plot(y, z[:,1])\n",
    "    ax.set_xlabel('y')\n",
    "    ax.set_ylim(-0.1,0.1)\n",
    "    ax.set_ylabel('z')\n",
    "\n",
    "    ax = fig.add_subplot(1, 3, 3)\n",
    "    ax.plot(y, z[:,2])\n",
    "    ax.set_xlabel('y')\n",
    "    ax.set_ylim(-0.1,0.1)\n",
    "    ax.set_ylabel('z')\n",
    "\n",
    "    _a = \"N1 M L x_PML y_0 k_0 eps\".split()\n",
    "    _b = list(map(str, np.loadtxt(f'matmod2_lab3//{i}_eigen_data.txt')))\n",
    "    labels = [f'{a} = {_b[i]}' for (i,a) in enumerate(_a)]\n",
    "    line1 = ', '.join(labels[:2])\n",
    "    line2 = ', '.join(labels[2:4])\n",
    "    line3 = ', '.join(labels[4:])\n",
    "    plt.suptitle('\\n'.join([line1,line2,line3]))\n",
    "    plt.tight_layout()\n",
    "    plt.show()\n",
    "    return x,y,z"
   ]
  },
  {
   "cell_type": "code",
   "execution_count": 6,
   "metadata": {},
   "outputs": [],
   "source": [
    "def file_data(i):\n",
    "    _a = \"N1 M L x_PML y_0 k_0 eps\".split()\n",
    "    _b = list(map(str, np.loadtxt(f'matmod2_lab3//{i}_eigen_data.txt')))\n",
    "    labels = [f'{a} = {_b[i]}' for (i,a) in enumerate(_a)]\n",
    "    print(f'{i}:\\t{\",\\t\".join(labels)}')"
   ]
  },
  {
   "cell_type": "code",
   "execution_count": 7,
   "metadata": {},
   "outputs": [],
   "source": [
    "def plot_scaled(i, x_scale):\n",
    "    mpl.rcParams['legend.fontsize'] = 10\n",
    "\n",
    "    x = np.loadtxt(f'matmod2_lab3//{i}_eigen_X.txt') #[:-1]\n",
    "    y = np.loadtxt(f'matmod2_lab3//{i}_eigen_Y.txt')\n",
    "    z = np.loadtxt(f'matmod2_lab3//{i}_eigen_Z.txt') #[:,:-1]\n",
    "    X, Y = np.meshgrid(x, y)\n",
    "    fig = plt.figure(figsize=(25,25))\n",
    "    # fig = plt.figure()\n",
    "    # plot 2\n",
    "    ax = fig.add_subplot(1, 1, 1, projection='3d')\n",
    "    \"\"\"\n",
    "    Scaling is done from here...\n",
    "    \"\"\"\n",
    "    y_scale = 1\n",
    "    z_scale = 1\n",
    "    scale = np.diag([x_scale, y_scale, z_scale, 1.0])\n",
    "    scale = scale*(1.0/scale.max())\n",
    "    scale[3, 3] = 1.0\n",
    "    def short_proj():\n",
    "        return np.dot(Axes3D.get_proj(ax), scale)\n",
    "    ax.get_proj = short_proj\n",
    "    \"\"\"\n",
    "    to here\n",
    "    \"\"\"\n",
    "    surf = ax.plot_surface(X, Y, z, rstride=1, cstride=1,  cmap='plasma')\n",
    "    ax.set_xlabel('x')\n",
    "    ax.set_ylabel('y')\n",
    "    ax.set_zlabel('z')\n",
    "    ax.view_init(elev=30., azim=-25, roll=0)\n",
    "    ax.legend()\n",
    "\n",
    "    _a = \"N1 M L x_PML y_0 k_0 eps\".split()\n",
    "    _b = list(map(str, np.loadtxt(f'matmod2_lab3//{i}_eigen_data.txt')))\n",
    "    labels = [f'{a} = {_b[i]}' for (i,a) in enumerate(_a)]\n",
    "    line1 = ', '.join(labels[:2])\n",
    "    line2 = ', '.join(labels[2:4])\n",
    "    line3 = ', '.join(labels[4:])\n",
    "    plt.suptitle('\\n'.join([line1,line2,line3]))\n",
    "    plt.tight_layout()\n",
    "    plt.show()"
   ]
  },
  {
   "cell_type": "code",
   "execution_count": 8,
   "metadata": {},
   "outputs": [],
   "source": [
    "def plot_scaled_2(i, x_scale):\n",
    "    mpl.rcParams['legend.fontsize'] = 10\n",
    "    x = np.loadtxt(f'matmod2_lab3//{i}_eigen_X.txt') #[:-1]\n",
    "    y = np.loadtxt(f'matmod2_lab3//{i}_eigen_Y.txt')\n",
    "    z = np.loadtxt(f'matmod2_lab3//{i}_eigen_Z.txt') #[:,:-1]\n",
    "    X, Y = np.meshgrid(x, y)\n",
    "    fig = plt.figure(figsize=(25,25))\n",
    "    # fig = plt.figure()\n",
    "    # plot 2\n",
    "    ax = fig.add_subplot(1, 1, 1, projection='3d')\n",
    "    \"\"\"\n",
    "    Scaling is done from here...\n",
    "    \"\"\"\n",
    "    y_scale = 1\n",
    "    z_scale = 1\n",
    "    scale = np.diag([x_scale, y_scale, z_scale, 1.0])\n",
    "    scale = scale*(1.0/scale.max())\n",
    "    scale[3, 3] = 1.0\n",
    "    def short_proj():\n",
    "        return np.dot(Axes3D.get_proj(ax), scale)\n",
    "    ax.get_proj = short_proj\n",
    "    \"\"\"\n",
    "    to here\n",
    "    \"\"\"\n",
    "    surf = ax.plot_surface(X, Y, z, rstride=1, cstride=1, )\n",
    "    ax.set_xlabel('x')\n",
    "    ax.set_ylabel('y')\n",
    "    ax.set_zlabel('z')\n",
    "    ax.view_init(elev=0., azim=-90, roll=0)\n",
    "\n",
    "    _a = \"N1 M L x_PML y_0 k_0 eps\".split()\n",
    "    _b = list(map(str, np.loadtxt(f'matmod2_lab3//{i}_eigen_data.txt')))\n",
    "    labels = [f'{a} = {_b[i]}' for (i,a) in enumerate(_a)]\n",
    "    line1 = ', '.join(labels[:2])\n",
    "    line2 = ', '.join(labels[2:4])\n",
    "    line3 = ', '.join(labels[4:])\n",
    "    plt.suptitle('\\n'.join([line1,line2,line3]))\n",
    "    plt.tight_layout()\n",
    "    plt.show()"
   ]
  },
  {
   "cell_type": "code",
   "execution_count": 9,
   "metadata": {},
   "outputs": [],
   "source": [
    "def plot_scaled_3(i, x_scale):\n",
    "    mpl.rcParams['legend.fontsize'] = 10\n",
    "    x = np.loadtxt(f'matmod2_lab3//{i}_eigen_X.txt') #[:-1]\n",
    "    y = np.loadtxt(f'matmod2_lab3//{i}_eigen_Y.txt')\n",
    "    z = np.loadtxt(f'matmod2_lab3//{i}_eigen_Z.txt') #[:,:-1]\n",
    "    X, Y = np.meshgrid(x, y)\n",
    "    fig = plt.figure(figsize=(25,25))\n",
    "    # fig = plt.figure()\n",
    "    # plot 2\n",
    "    ax = fig.add_subplot(1, 1, 1, projection='3d')\n",
    "    ax.get_proj = lambda: np.dot(Axes3D.get_proj(ax), np.diag([1, 0.5, 0.5, 1]))\n",
    "    surf = ax.plot_surface(X, Y, z, rstride=1, cstride=1, )\n",
    "    ax.set_xlabel('x')\n",
    "    ax.set_ylabel('y')\n",
    "    ax.set_zlabel('z')\n",
    "    ax.view_init(elev=0., azim=-90, roll=0)\n",
    "    plt.show()"
   ]
  },
  {
   "cell_type": "code",
   "execution_count": 10,
   "metadata": {},
   "outputs": [
    {
     "ename": "FileNotFoundError",
     "evalue": "matmod2_lab3//0_eigen_X.txt not found.",
     "output_type": "error",
     "traceback": [
      "\u001b[1;31m---------------------------------------------------------------------------\u001b[0m",
      "\u001b[1;31mFileNotFoundError\u001b[0m                         Traceback (most recent call last)",
      "Cell \u001b[1;32mIn[10], line 1\u001b[0m\n\u001b[1;32m----> 1\u001b[0m x \u001b[38;5;241m=\u001b[39m \u001b[43mnp\u001b[49m\u001b[38;5;241;43m.\u001b[39;49m\u001b[43mloadtxt\u001b[49m\u001b[43m(\u001b[49m\u001b[38;5;124;43mf\u001b[39;49m\u001b[38;5;124;43m'\u001b[39;49m\u001b[38;5;124;43mmatmod2_lab3//\u001b[39;49m\u001b[38;5;132;43;01m{\u001b[39;49;00m\u001b[38;5;241;43m0\u001b[39;49m\u001b[38;5;132;43;01m}\u001b[39;49;00m\u001b[38;5;124;43m_eigen_X.txt\u001b[39;49m\u001b[38;5;124;43m'\u001b[39;49m\u001b[43m)\u001b[49m \u001b[38;5;66;03m#[:-1]\u001b[39;00m\n\u001b[0;32m      2\u001b[0m y \u001b[38;5;241m=\u001b[39m np\u001b[38;5;241m.\u001b[39mloadtxt(\u001b[38;5;124mf\u001b[39m\u001b[38;5;124m'\u001b[39m\u001b[38;5;124mmatmod2_lab3//\u001b[39m\u001b[38;5;132;01m{\u001b[39;00m\u001b[38;5;241m0\u001b[39m\u001b[38;5;132;01m}\u001b[39;00m\u001b[38;5;124m_eigen_Y.txt\u001b[39m\u001b[38;5;124m'\u001b[39m)\n\u001b[0;32m      3\u001b[0m z \u001b[38;5;241m=\u001b[39m np\u001b[38;5;241m.\u001b[39mloadtxt(\u001b[38;5;124mf\u001b[39m\u001b[38;5;124m'\u001b[39m\u001b[38;5;124mmatmod2_lab3//\u001b[39m\u001b[38;5;132;01m{\u001b[39;00m\u001b[38;5;241m0\u001b[39m\u001b[38;5;132;01m}\u001b[39;00m\u001b[38;5;124m_eigen_Z.txt\u001b[39m\u001b[38;5;124m'\u001b[39m) \u001b[38;5;66;03m#[:,:-1]\u001b[39;00m\n",
      "File \u001b[1;32mc:\\Users\\Ravil\\.pyenv\\pyenv-win\\versions\\3.12.0\\Lib\\site-packages\\numpy\\lib\\npyio.py:1373\u001b[0m, in \u001b[0;36mloadtxt\u001b[1;34m(fname, dtype, comments, delimiter, converters, skiprows, usecols, unpack, ndmin, encoding, max_rows, quotechar, like)\u001b[0m\n\u001b[0;32m   1370\u001b[0m \u001b[38;5;28;01mif\u001b[39;00m \u001b[38;5;28misinstance\u001b[39m(delimiter, \u001b[38;5;28mbytes\u001b[39m):\n\u001b[0;32m   1371\u001b[0m     delimiter \u001b[38;5;241m=\u001b[39m delimiter\u001b[38;5;241m.\u001b[39mdecode(\u001b[38;5;124m'\u001b[39m\u001b[38;5;124mlatin1\u001b[39m\u001b[38;5;124m'\u001b[39m)\n\u001b[1;32m-> 1373\u001b[0m arr \u001b[38;5;241m=\u001b[39m \u001b[43m_read\u001b[49m\u001b[43m(\u001b[49m\u001b[43mfname\u001b[49m\u001b[43m,\u001b[49m\u001b[43m \u001b[49m\u001b[43mdtype\u001b[49m\u001b[38;5;241;43m=\u001b[39;49m\u001b[43mdtype\u001b[49m\u001b[43m,\u001b[49m\u001b[43m \u001b[49m\u001b[43mcomment\u001b[49m\u001b[38;5;241;43m=\u001b[39;49m\u001b[43mcomment\u001b[49m\u001b[43m,\u001b[49m\u001b[43m \u001b[49m\u001b[43mdelimiter\u001b[49m\u001b[38;5;241;43m=\u001b[39;49m\u001b[43mdelimiter\u001b[49m\u001b[43m,\u001b[49m\n\u001b[0;32m   1374\u001b[0m \u001b[43m            \u001b[49m\u001b[43mconverters\u001b[49m\u001b[38;5;241;43m=\u001b[39;49m\u001b[43mconverters\u001b[49m\u001b[43m,\u001b[49m\u001b[43m \u001b[49m\u001b[43mskiplines\u001b[49m\u001b[38;5;241;43m=\u001b[39;49m\u001b[43mskiprows\u001b[49m\u001b[43m,\u001b[49m\u001b[43m \u001b[49m\u001b[43musecols\u001b[49m\u001b[38;5;241;43m=\u001b[39;49m\u001b[43musecols\u001b[49m\u001b[43m,\u001b[49m\n\u001b[0;32m   1375\u001b[0m \u001b[43m            \u001b[49m\u001b[43munpack\u001b[49m\u001b[38;5;241;43m=\u001b[39;49m\u001b[43munpack\u001b[49m\u001b[43m,\u001b[49m\u001b[43m \u001b[49m\u001b[43mndmin\u001b[49m\u001b[38;5;241;43m=\u001b[39;49m\u001b[43mndmin\u001b[49m\u001b[43m,\u001b[49m\u001b[43m \u001b[49m\u001b[43mencoding\u001b[49m\u001b[38;5;241;43m=\u001b[39;49m\u001b[43mencoding\u001b[49m\u001b[43m,\u001b[49m\n\u001b[0;32m   1376\u001b[0m \u001b[43m            \u001b[49m\u001b[43mmax_rows\u001b[49m\u001b[38;5;241;43m=\u001b[39;49m\u001b[43mmax_rows\u001b[49m\u001b[43m,\u001b[49m\u001b[43m \u001b[49m\u001b[43mquote\u001b[49m\u001b[38;5;241;43m=\u001b[39;49m\u001b[43mquotechar\u001b[49m\u001b[43m)\u001b[49m\n\u001b[0;32m   1378\u001b[0m \u001b[38;5;28;01mreturn\u001b[39;00m arr\n",
      "File \u001b[1;32mc:\\Users\\Ravil\\.pyenv\\pyenv-win\\versions\\3.12.0\\Lib\\site-packages\\numpy\\lib\\npyio.py:992\u001b[0m, in \u001b[0;36m_read\u001b[1;34m(fname, delimiter, comment, quote, imaginary_unit, usecols, skiplines, max_rows, converters, ndmin, unpack, dtype, encoding)\u001b[0m\n\u001b[0;32m    990\u001b[0m     fname \u001b[38;5;241m=\u001b[39m os\u001b[38;5;241m.\u001b[39mfspath(fname)\n\u001b[0;32m    991\u001b[0m \u001b[38;5;28;01mif\u001b[39;00m \u001b[38;5;28misinstance\u001b[39m(fname, \u001b[38;5;28mstr\u001b[39m):\n\u001b[1;32m--> 992\u001b[0m     fh \u001b[38;5;241m=\u001b[39m \u001b[43mnp\u001b[49m\u001b[38;5;241;43m.\u001b[39;49m\u001b[43mlib\u001b[49m\u001b[38;5;241;43m.\u001b[39;49m\u001b[43m_datasource\u001b[49m\u001b[38;5;241;43m.\u001b[39;49m\u001b[43mopen\u001b[49m\u001b[43m(\u001b[49m\u001b[43mfname\u001b[49m\u001b[43m,\u001b[49m\u001b[43m \u001b[49m\u001b[38;5;124;43m'\u001b[39;49m\u001b[38;5;124;43mrt\u001b[39;49m\u001b[38;5;124;43m'\u001b[39;49m\u001b[43m,\u001b[49m\u001b[43m \u001b[49m\u001b[43mencoding\u001b[49m\u001b[38;5;241;43m=\u001b[39;49m\u001b[43mencoding\u001b[49m\u001b[43m)\u001b[49m\n\u001b[0;32m    993\u001b[0m     \u001b[38;5;28;01mif\u001b[39;00m encoding \u001b[38;5;129;01mis\u001b[39;00m \u001b[38;5;28;01mNone\u001b[39;00m:\n\u001b[0;32m    994\u001b[0m         encoding \u001b[38;5;241m=\u001b[39m \u001b[38;5;28mgetattr\u001b[39m(fh, \u001b[38;5;124m'\u001b[39m\u001b[38;5;124mencoding\u001b[39m\u001b[38;5;124m'\u001b[39m, \u001b[38;5;124m'\u001b[39m\u001b[38;5;124mlatin1\u001b[39m\u001b[38;5;124m'\u001b[39m)\n",
      "File \u001b[1;32mc:\\Users\\Ravil\\.pyenv\\pyenv-win\\versions\\3.12.0\\Lib\\site-packages\\numpy\\lib\\_datasource.py:193\u001b[0m, in \u001b[0;36mopen\u001b[1;34m(path, mode, destpath, encoding, newline)\u001b[0m\n\u001b[0;32m    156\u001b[0m \u001b[38;5;250m\u001b[39m\u001b[38;5;124;03m\"\"\"\u001b[39;00m\n\u001b[0;32m    157\u001b[0m \u001b[38;5;124;03mOpen `path` with `mode` and return the file object.\u001b[39;00m\n\u001b[0;32m    158\u001b[0m \n\u001b[1;32m   (...)\u001b[0m\n\u001b[0;32m    189\u001b[0m \n\u001b[0;32m    190\u001b[0m \u001b[38;5;124;03m\"\"\"\u001b[39;00m\n\u001b[0;32m    192\u001b[0m ds \u001b[38;5;241m=\u001b[39m DataSource(destpath)\n\u001b[1;32m--> 193\u001b[0m \u001b[38;5;28;01mreturn\u001b[39;00m \u001b[43mds\u001b[49m\u001b[38;5;241;43m.\u001b[39;49m\u001b[43mopen\u001b[49m\u001b[43m(\u001b[49m\u001b[43mpath\u001b[49m\u001b[43m,\u001b[49m\u001b[43m \u001b[49m\u001b[43mmode\u001b[49m\u001b[43m,\u001b[49m\u001b[43m \u001b[49m\u001b[43mencoding\u001b[49m\u001b[38;5;241;43m=\u001b[39;49m\u001b[43mencoding\u001b[49m\u001b[43m,\u001b[49m\u001b[43m \u001b[49m\u001b[43mnewline\u001b[49m\u001b[38;5;241;43m=\u001b[39;49m\u001b[43mnewline\u001b[49m\u001b[43m)\u001b[49m\n",
      "File \u001b[1;32mc:\\Users\\Ravil\\.pyenv\\pyenv-win\\versions\\3.12.0\\Lib\\site-packages\\numpy\\lib\\_datasource.py:533\u001b[0m, in \u001b[0;36mDataSource.open\u001b[1;34m(self, path, mode, encoding, newline)\u001b[0m\n\u001b[0;32m    530\u001b[0m     \u001b[38;5;28;01mreturn\u001b[39;00m _file_openers[ext](found, mode\u001b[38;5;241m=\u001b[39mmode,\n\u001b[0;32m    531\u001b[0m                               encoding\u001b[38;5;241m=\u001b[39mencoding, newline\u001b[38;5;241m=\u001b[39mnewline)\n\u001b[0;32m    532\u001b[0m \u001b[38;5;28;01melse\u001b[39;00m:\n\u001b[1;32m--> 533\u001b[0m     \u001b[38;5;28;01mraise\u001b[39;00m \u001b[38;5;167;01mFileNotFoundError\u001b[39;00m(\u001b[38;5;124mf\u001b[39m\u001b[38;5;124m\"\u001b[39m\u001b[38;5;132;01m{\u001b[39;00mpath\u001b[38;5;132;01m}\u001b[39;00m\u001b[38;5;124m not found.\u001b[39m\u001b[38;5;124m\"\u001b[39m)\n",
      "\u001b[1;31mFileNotFoundError\u001b[0m: matmod2_lab3//0_eigen_X.txt not found."
     ]
    }
   ],
   "source": [
    "x = np.loadtxt(f'matmod2_lab3//{0}_eigen_X.txt') #[:-1]\n",
    "y = np.loadtxt(f'matmod2_lab3//{0}_eigen_Y.txt')\n",
    "z = np.loadtxt(f'matmod2_lab3//{0}_eigen_Z.txt') #[:,:-1]\n",
    "x.shape, y.shape, z.shape"
   ]
  },
  {
   "cell_type": "code",
   "execution_count": null,
   "metadata": {},
   "outputs": [],
   "source": [
    "def analyze_eigen(i):\n",
    "    x = np.loadtxt(f'matmod2_lab3//{i}_eigen_X.txt') #[:-1]\n",
    "    y = np.loadtxt(f'matmod2_lab3//{i}_eigen_Y.txt')\n",
    "    z = np.loadtxt(f'matmod2_lab3//{i}_eigen_Z.txt') #[:,:-1]\n",
    "    X, Y = np.meshgrid(x, y)\n",
    "    fig = plt.figure(figsize=(12,12))\n",
    "    ax = fig.add_subplot(2, 2, 1, projection='3d')\n",
    "    surf = ax.plot_surface(X, Y, z, rstride=1, cstride=1,  cmap='plasma')\n",
    "    ax.set_xlabel('x')\n",
    "    ax.set_ylabel('y')\n",
    "    ax.set_zlabel('z')\n",
    "    ax.view_init(elev=30., azim=-25, roll=0)\n",
    "\n",
    "    ax = fig.add_subplot(2, 2, 2, projection='3d')\n",
    "    surf = ax.plot_surface(X, Y, z,  rstride=1, cstride=1)\n",
    "    ax.set_xlabel('x')\n",
    "    ax.set_ylabel('y')\n",
    "    ax.set_zlabel('z')\n",
    "    ax.view_init(elev=30., azim=-75, roll=0)\n",
    "\n",
    "    ax = fig.add_subplot(2, 2, 3, projection='3d')\n",
    "    surf = ax.plot_surface(X, Y, z, rstride=1, cstride=1, )\n",
    "    ax.set_xlabel('x')\n",
    "    ax.set_ylabel('y')\n",
    "    ax.set_zlabel('z')\n",
    "    ax.view_init(elev=0., azim=-90, roll=0)\n",
    "\n",
    "    ax = fig.add_subplot(2, 2, 4, projection='3d')\n",
    "    surf = ax.plot_surface(X, Y, z,  rstride=1, cstride=1, )\n",
    "    ax.set_xlabel('x')\n",
    "    ax.set_ylabel('y')\n",
    "    ax.set_zlabel('z')\n",
    "    ax.view_init(elev=0., azim=0, roll=0)\n",
    "\n",
    "    _a = \"N1 M L x_PML y_0 k_0 eps\".split()\n",
    "    _b = list(map(str, np.loadtxt(f'matmod2_lab3//{i}_eigen_data.txt')))\n",
    "    labels = [f'{a} = {_b[i]}' for (i,a) in enumerate(_a)]\n",
    "    line1 = ', '.join(labels[:2])\n",
    "    line2 = ', '.join(labels[2:4])\n",
    "    line3 = ', '.join(labels[4:])\n",
    "    plt.suptitle('\\n'.join([line1,line2,line3]))\n",
    "    plt.tight_layout()\n",
    "    plt.show()\n",
    "    return x,y,z"
   ]
  },
  {
   "cell_type": "markdown",
   "metadata": {},
   "source": [
    "### основное"
   ]
  },
  {
   "cell_type": "code",
   "execution_count": 11,
   "metadata": {},
   "outputs": [
    {
     "ename": "FileNotFoundError",
     "evalue": "matmod2_lab3//0_eigen_data.txt not found.",
     "output_type": "error",
     "traceback": [
      "\u001b[1;31m---------------------------------------------------------------------------\u001b[0m",
      "\u001b[1;31mFileNotFoundError\u001b[0m                         Traceback (most recent call last)",
      "Cell \u001b[1;32mIn[11], line 2\u001b[0m\n\u001b[0;32m      1\u001b[0m \u001b[38;5;28;01mfor\u001b[39;00m i \u001b[38;5;129;01min\u001b[39;00m \u001b[38;5;28mrange\u001b[39m(\u001b[38;5;241m26\u001b[39m):\n\u001b[1;32m----> 2\u001b[0m     \u001b[43mfile_data\u001b[49m\u001b[43m(\u001b[49m\u001b[43mi\u001b[49m\u001b[43m)\u001b[49m\n",
      "Cell \u001b[1;32mIn[6], line 3\u001b[0m, in \u001b[0;36mfile_data\u001b[1;34m(i)\u001b[0m\n\u001b[0;32m      1\u001b[0m \u001b[38;5;28;01mdef\u001b[39;00m \u001b[38;5;21mfile_data\u001b[39m(i):\n\u001b[0;32m      2\u001b[0m     _a \u001b[38;5;241m=\u001b[39m \u001b[38;5;124m\"\u001b[39m\u001b[38;5;124mN1 M L x_PML y_0 k_0 eps\u001b[39m\u001b[38;5;124m\"\u001b[39m\u001b[38;5;241m.\u001b[39msplit()\n\u001b[1;32m----> 3\u001b[0m     _b \u001b[38;5;241m=\u001b[39m \u001b[38;5;28mlist\u001b[39m(\u001b[38;5;28mmap\u001b[39m(\u001b[38;5;28mstr\u001b[39m, \u001b[43mnp\u001b[49m\u001b[38;5;241;43m.\u001b[39;49m\u001b[43mloadtxt\u001b[49m\u001b[43m(\u001b[49m\u001b[38;5;124;43mf\u001b[39;49m\u001b[38;5;124;43m'\u001b[39;49m\u001b[38;5;124;43mmatmod2_lab3//\u001b[39;49m\u001b[38;5;132;43;01m{\u001b[39;49;00m\u001b[43mi\u001b[49m\u001b[38;5;132;43;01m}\u001b[39;49;00m\u001b[38;5;124;43m_eigen_data.txt\u001b[39;49m\u001b[38;5;124;43m'\u001b[39;49m\u001b[43m)\u001b[49m))\n\u001b[0;32m      4\u001b[0m     labels \u001b[38;5;241m=\u001b[39m [\u001b[38;5;124mf\u001b[39m\u001b[38;5;124m'\u001b[39m\u001b[38;5;132;01m{\u001b[39;00ma\u001b[38;5;132;01m}\u001b[39;00m\u001b[38;5;124m = \u001b[39m\u001b[38;5;132;01m{\u001b[39;00m_b[i]\u001b[38;5;132;01m}\u001b[39;00m\u001b[38;5;124m'\u001b[39m \u001b[38;5;28;01mfor\u001b[39;00m (i,a) \u001b[38;5;129;01min\u001b[39;00m \u001b[38;5;28menumerate\u001b[39m(_a)]\n\u001b[0;32m      5\u001b[0m     \u001b[38;5;28mprint\u001b[39m(\u001b[38;5;124mf\u001b[39m\u001b[38;5;124m'\u001b[39m\u001b[38;5;132;01m{\u001b[39;00mi\u001b[38;5;132;01m}\u001b[39;00m\u001b[38;5;124m:\u001b[39m\u001b[38;5;130;01m\\t\u001b[39;00m\u001b[38;5;132;01m{\u001b[39;00m\u001b[38;5;124m\"\u001b[39m\u001b[38;5;124m,\u001b[39m\u001b[38;5;130;01m\\t\u001b[39;00m\u001b[38;5;124m\"\u001b[39m\u001b[38;5;241m.\u001b[39mjoin(labels)\u001b[38;5;132;01m}\u001b[39;00m\u001b[38;5;124m'\u001b[39m)\n",
      "File \u001b[1;32mc:\\Users\\Ravil\\.pyenv\\pyenv-win\\versions\\3.12.0\\Lib\\site-packages\\numpy\\lib\\npyio.py:1373\u001b[0m, in \u001b[0;36mloadtxt\u001b[1;34m(fname, dtype, comments, delimiter, converters, skiprows, usecols, unpack, ndmin, encoding, max_rows, quotechar, like)\u001b[0m\n\u001b[0;32m   1370\u001b[0m \u001b[38;5;28;01mif\u001b[39;00m \u001b[38;5;28misinstance\u001b[39m(delimiter, \u001b[38;5;28mbytes\u001b[39m):\n\u001b[0;32m   1371\u001b[0m     delimiter \u001b[38;5;241m=\u001b[39m delimiter\u001b[38;5;241m.\u001b[39mdecode(\u001b[38;5;124m'\u001b[39m\u001b[38;5;124mlatin1\u001b[39m\u001b[38;5;124m'\u001b[39m)\n\u001b[1;32m-> 1373\u001b[0m arr \u001b[38;5;241m=\u001b[39m \u001b[43m_read\u001b[49m\u001b[43m(\u001b[49m\u001b[43mfname\u001b[49m\u001b[43m,\u001b[49m\u001b[43m \u001b[49m\u001b[43mdtype\u001b[49m\u001b[38;5;241;43m=\u001b[39;49m\u001b[43mdtype\u001b[49m\u001b[43m,\u001b[49m\u001b[43m \u001b[49m\u001b[43mcomment\u001b[49m\u001b[38;5;241;43m=\u001b[39;49m\u001b[43mcomment\u001b[49m\u001b[43m,\u001b[49m\u001b[43m \u001b[49m\u001b[43mdelimiter\u001b[49m\u001b[38;5;241;43m=\u001b[39;49m\u001b[43mdelimiter\u001b[49m\u001b[43m,\u001b[49m\n\u001b[0;32m   1374\u001b[0m \u001b[43m            \u001b[49m\u001b[43mconverters\u001b[49m\u001b[38;5;241;43m=\u001b[39;49m\u001b[43mconverters\u001b[49m\u001b[43m,\u001b[49m\u001b[43m \u001b[49m\u001b[43mskiplines\u001b[49m\u001b[38;5;241;43m=\u001b[39;49m\u001b[43mskiprows\u001b[49m\u001b[43m,\u001b[49m\u001b[43m \u001b[49m\u001b[43musecols\u001b[49m\u001b[38;5;241;43m=\u001b[39;49m\u001b[43musecols\u001b[49m\u001b[43m,\u001b[49m\n\u001b[0;32m   1375\u001b[0m \u001b[43m            \u001b[49m\u001b[43munpack\u001b[49m\u001b[38;5;241;43m=\u001b[39;49m\u001b[43munpack\u001b[49m\u001b[43m,\u001b[49m\u001b[43m \u001b[49m\u001b[43mndmin\u001b[49m\u001b[38;5;241;43m=\u001b[39;49m\u001b[43mndmin\u001b[49m\u001b[43m,\u001b[49m\u001b[43m \u001b[49m\u001b[43mencoding\u001b[49m\u001b[38;5;241;43m=\u001b[39;49m\u001b[43mencoding\u001b[49m\u001b[43m,\u001b[49m\n\u001b[0;32m   1376\u001b[0m \u001b[43m            \u001b[49m\u001b[43mmax_rows\u001b[49m\u001b[38;5;241;43m=\u001b[39;49m\u001b[43mmax_rows\u001b[49m\u001b[43m,\u001b[49m\u001b[43m \u001b[49m\u001b[43mquote\u001b[49m\u001b[38;5;241;43m=\u001b[39;49m\u001b[43mquotechar\u001b[49m\u001b[43m)\u001b[49m\n\u001b[0;32m   1378\u001b[0m \u001b[38;5;28;01mreturn\u001b[39;00m arr\n",
      "File \u001b[1;32mc:\\Users\\Ravil\\.pyenv\\pyenv-win\\versions\\3.12.0\\Lib\\site-packages\\numpy\\lib\\npyio.py:992\u001b[0m, in \u001b[0;36m_read\u001b[1;34m(fname, delimiter, comment, quote, imaginary_unit, usecols, skiplines, max_rows, converters, ndmin, unpack, dtype, encoding)\u001b[0m\n\u001b[0;32m    990\u001b[0m     fname \u001b[38;5;241m=\u001b[39m os\u001b[38;5;241m.\u001b[39mfspath(fname)\n\u001b[0;32m    991\u001b[0m \u001b[38;5;28;01mif\u001b[39;00m \u001b[38;5;28misinstance\u001b[39m(fname, \u001b[38;5;28mstr\u001b[39m):\n\u001b[1;32m--> 992\u001b[0m     fh \u001b[38;5;241m=\u001b[39m \u001b[43mnp\u001b[49m\u001b[38;5;241;43m.\u001b[39;49m\u001b[43mlib\u001b[49m\u001b[38;5;241;43m.\u001b[39;49m\u001b[43m_datasource\u001b[49m\u001b[38;5;241;43m.\u001b[39;49m\u001b[43mopen\u001b[49m\u001b[43m(\u001b[49m\u001b[43mfname\u001b[49m\u001b[43m,\u001b[49m\u001b[43m \u001b[49m\u001b[38;5;124;43m'\u001b[39;49m\u001b[38;5;124;43mrt\u001b[39;49m\u001b[38;5;124;43m'\u001b[39;49m\u001b[43m,\u001b[49m\u001b[43m \u001b[49m\u001b[43mencoding\u001b[49m\u001b[38;5;241;43m=\u001b[39;49m\u001b[43mencoding\u001b[49m\u001b[43m)\u001b[49m\n\u001b[0;32m    993\u001b[0m     \u001b[38;5;28;01mif\u001b[39;00m encoding \u001b[38;5;129;01mis\u001b[39;00m \u001b[38;5;28;01mNone\u001b[39;00m:\n\u001b[0;32m    994\u001b[0m         encoding \u001b[38;5;241m=\u001b[39m \u001b[38;5;28mgetattr\u001b[39m(fh, \u001b[38;5;124m'\u001b[39m\u001b[38;5;124mencoding\u001b[39m\u001b[38;5;124m'\u001b[39m, \u001b[38;5;124m'\u001b[39m\u001b[38;5;124mlatin1\u001b[39m\u001b[38;5;124m'\u001b[39m)\n",
      "File \u001b[1;32mc:\\Users\\Ravil\\.pyenv\\pyenv-win\\versions\\3.12.0\\Lib\\site-packages\\numpy\\lib\\_datasource.py:193\u001b[0m, in \u001b[0;36mopen\u001b[1;34m(path, mode, destpath, encoding, newline)\u001b[0m\n\u001b[0;32m    156\u001b[0m \u001b[38;5;250m\u001b[39m\u001b[38;5;124;03m\"\"\"\u001b[39;00m\n\u001b[0;32m    157\u001b[0m \u001b[38;5;124;03mOpen `path` with `mode` and return the file object.\u001b[39;00m\n\u001b[0;32m    158\u001b[0m \n\u001b[1;32m   (...)\u001b[0m\n\u001b[0;32m    189\u001b[0m \n\u001b[0;32m    190\u001b[0m \u001b[38;5;124;03m\"\"\"\u001b[39;00m\n\u001b[0;32m    192\u001b[0m ds \u001b[38;5;241m=\u001b[39m DataSource(destpath)\n\u001b[1;32m--> 193\u001b[0m \u001b[38;5;28;01mreturn\u001b[39;00m \u001b[43mds\u001b[49m\u001b[38;5;241;43m.\u001b[39;49m\u001b[43mopen\u001b[49m\u001b[43m(\u001b[49m\u001b[43mpath\u001b[49m\u001b[43m,\u001b[49m\u001b[43m \u001b[49m\u001b[43mmode\u001b[49m\u001b[43m,\u001b[49m\u001b[43m \u001b[49m\u001b[43mencoding\u001b[49m\u001b[38;5;241;43m=\u001b[39;49m\u001b[43mencoding\u001b[49m\u001b[43m,\u001b[49m\u001b[43m \u001b[49m\u001b[43mnewline\u001b[49m\u001b[38;5;241;43m=\u001b[39;49m\u001b[43mnewline\u001b[49m\u001b[43m)\u001b[49m\n",
      "File \u001b[1;32mc:\\Users\\Ravil\\.pyenv\\pyenv-win\\versions\\3.12.0\\Lib\\site-packages\\numpy\\lib\\_datasource.py:533\u001b[0m, in \u001b[0;36mDataSource.open\u001b[1;34m(self, path, mode, encoding, newline)\u001b[0m\n\u001b[0;32m    530\u001b[0m     \u001b[38;5;28;01mreturn\u001b[39;00m _file_openers[ext](found, mode\u001b[38;5;241m=\u001b[39mmode,\n\u001b[0;32m    531\u001b[0m                               encoding\u001b[38;5;241m=\u001b[39mencoding, newline\u001b[38;5;241m=\u001b[39mnewline)\n\u001b[0;32m    532\u001b[0m \u001b[38;5;28;01melse\u001b[39;00m:\n\u001b[1;32m--> 533\u001b[0m     \u001b[38;5;28;01mraise\u001b[39;00m \u001b[38;5;167;01mFileNotFoundError\u001b[39;00m(\u001b[38;5;124mf\u001b[39m\u001b[38;5;124m\"\u001b[39m\u001b[38;5;132;01m{\u001b[39;00mpath\u001b[38;5;132;01m}\u001b[39;00m\u001b[38;5;124m not found.\u001b[39m\u001b[38;5;124m\"\u001b[39m)\n",
      "\u001b[1;31mFileNotFoundError\u001b[0m: matmod2_lab3//0_eigen_data.txt not found."
     ]
    }
   ],
   "source": [
    "for i in range(26):\n",
    "    file_data(i)"
   ]
  },
  {
   "cell_type": "code",
   "execution_count": 62,
   "metadata": {},
   "outputs": [],
   "source": [
    "# idx_sc = 3\n",
    "# plot_scaled(idx_sc, 5)\n",
    "# plot_scaled_2(idx_sc, 5)\n",
    "# # plot_scaled_3(idx_sc, 5)"
   ]
  },
  {
   "cell_type": "code",
   "execution_count": 12,
   "metadata": {},
   "outputs": [
    {
     "ename": "SyntaxError",
     "evalue": "incomplete input (1165866339.py, line 2)",
     "output_type": "error",
     "traceback": [
      "\u001b[1;36m  Cell \u001b[1;32mIn[12], line 2\u001b[1;36m\u001b[0m\n\u001b[1;33m    # analyze_eigen_3(i, 0.1)\u001b[0m\n\u001b[1;37m                             ^\u001b[0m\n\u001b[1;31mSyntaxError\u001b[0m\u001b[1;31m:\u001b[0m incomplete input\n"
     ]
    }
   ],
   "source": [
    "for i in range(17, 26):\n",
    "    # analyze_eigen_3(i, 0.1)"
   ]
  },
  {
   "cell_type": "code",
   "execution_count": 13,
   "metadata": {},
   "outputs": [
    {
     "ename": "SyntaxError",
     "evalue": "incomplete input (2152679043.py, line 2)",
     "output_type": "error",
     "traceback": [
      "\u001b[1;36m  Cell \u001b[1;32mIn[13], line 2\u001b[1;36m\u001b[0m\n\u001b[1;33m    # analyze_eigen(i)\u001b[0m\n\u001b[1;37m                      ^\u001b[0m\n\u001b[1;31mSyntaxError\u001b[0m\u001b[1;31m:\u001b[0m incomplete input\n"
     ]
    }
   ],
   "source": [
    "for i in range(17, 26):\n",
    "    # analyze_eigen(i)"
   ]
  },
  {
   "cell_type": "code",
   "execution_count": 14,
   "metadata": {},
   "outputs": [
    {
     "ename": "SyntaxError",
     "evalue": "incomplete input (2041624670.py, line 2)",
     "output_type": "error",
     "traceback": [
      "\u001b[1;36m  Cell \u001b[1;32mIn[14], line 2\u001b[1;36m\u001b[0m\n\u001b[1;33m    # analyze_eigen_2(i, 0.1)\u001b[0m\n\u001b[1;37m                             ^\u001b[0m\n\u001b[1;31mSyntaxError\u001b[0m\u001b[1;31m:\u001b[0m incomplete input\n"
     ]
    }
   ],
   "source": [
    "for i in range(17, 26):\n",
    "    # analyze_eigen_2(i, 0.1)"
   ]
  },
  {
   "cell_type": "code",
   "execution_count": 15,
   "metadata": {},
   "outputs": [
    {
     "ename": "SyntaxError",
     "evalue": "incomplete input (2295039898.py, line 2)",
     "output_type": "error",
     "traceback": [
      "\u001b[1;36m  Cell \u001b[1;32mIn[15], line 2\u001b[1;36m\u001b[0m\n\u001b[1;33m    # analyze_eigen(i)\u001b[0m\n\u001b[1;37m                      ^\u001b[0m\n\u001b[1;31mSyntaxError\u001b[0m\u001b[1;31m:\u001b[0m incomplete input\n"
     ]
    }
   ],
   "source": [
    "for i in range(1,6):\n",
    "    # analyze_eigen(i)"
   ]
  },
  {
   "cell_type": "code",
   "execution_count": null,
   "metadata": {},
   "outputs": [],
   "source": []
  },
  {
   "cell_type": "code",
   "execution_count": null,
   "metadata": {},
   "outputs": [],
   "source": []
  },
  {
   "cell_type": "code",
   "execution_count": null,
   "metadata": {},
   "outputs": [],
   "source": []
  },
  {
   "cell_type": "code",
   "execution_count": null,
   "metadata": {},
   "outputs": [],
   "source": []
  },
  {
   "cell_type": "code",
   "execution_count": null,
   "metadata": {},
   "outputs": [],
   "source": []
  },
  {
   "cell_type": "code",
   "execution_count": null,
   "metadata": {},
   "outputs": [],
   "source": []
  },
  {
   "cell_type": "code",
   "execution_count": null,
   "metadata": {},
   "outputs": [],
   "source": []
  },
  {
   "cell_type": "code",
   "execution_count": null,
   "metadata": {},
   "outputs": [],
   "source": [
    "Y, X = np.meshgrid(y, x)\n",
    "fig = plt.figure(figsize=(12,12))\n",
    "ax = fig.add_subplot(2, 2, 1, projection='3d')\n",
    "surf = ax.plot_surface(Y, X, z.T, cmap='plasma')\n",
    "ax.set_xlabel('y')\n",
    "ax.set_ylabel('x')\n",
    "ax.set_zlabel('z')\n",
    "ax.view_init(elev=30., azim=25, roll=0)\n",
    "\n",
    "ax = fig.add_subplot(2, 2, 2, projection='3d')\n",
    "surf = ax.plot_surface(Y, X, z.T)\n",
    "ax.set_xlabel('y')\n",
    "ax.set_ylabel('x')\n",
    "ax.set_zlabel('z')\n",
    "ax.view_init(elev=30., azim=75, roll=0)\n",
    "\n",
    "ax = fig.add_subplot(2, 2, 3, projection='3d')\n",
    "surf = ax.plot_surface(Y, X, z.T)\n",
    "ax.set_xlabel('y')\n",
    "ax.set_ylabel('x')\n",
    "ax.set_zlabel('z')\n",
    "ax.view_init(elev=0., azim=90, roll=0)\n",
    "\n",
    "ax = fig.add_subplot(2, 2, 4, projection='3d')\n",
    "surf = ax.plot_surface(Y, X, z.T)\n",
    "ax.set_xlabel('y')\n",
    "ax.set_ylabel('x')\n",
    "ax.set_zlabel('z')\n",
    "ax.view_init(elev=0., azim=0, roll=0)\n",
    "plt.show()"
   ]
  },
  {
   "cell_type": "markdown",
   "metadata": {},
   "source": [
    "### Замена на eigen"
   ]
  },
  {
   "cell_type": "code",
   "execution_count": null,
   "metadata": {},
   "outputs": [
    {
     "data": {
      "text/plain": [
       "'coefficients.push_back(Trip(idx1, idx2, val));'"
      ]
     },
     "metadata": {},
     "output_type": "display_data"
    }
   ],
   "source": [
    "'A[idx1][idx2] = val'\n",
    "'coefficients.push_back(Trip(idx1, idx2, val));'"
   ]
  },
  {
   "cell_type": "code",
   "execution_count": null,
   "metadata": {},
   "outputs": [
    {
     "name": "stdout",
     "output_type": "stream",
     "text": [
      "\n",
      "\t\t\tcoefficients.push_back(Trip(ReIdx(i, M - 1), ReIdx(i - 1, M - 1), inv2_hx));\n",
      "\t\t\tcoefficients.push_back(Trip(ReIdx(i, M - 1), ReIdx(i, M - 1), k2_val(y(1)) - 2 * inv2_hx - 2 * inv2_hy));\n",
      "\t\t\tcoefficients.push_back(Trip(ReIdx(i, M - 1), ReIdx(i + 1, M - 1), inv2_hx));\n",
      "\t\t\tcoefficients.push_back(Trip(ReIdx(i, M - 1), ReIdx(i, M - 2), inv2_hy));\n",
      "\n",
      "\t\t\tcoefficients.push_back(Trip(ImIdx(i, M - 1), ImIdx(i - 1, M - 1), inv2_hx));\n",
      "\t\t\tcoefficients.push_back(Trip(ImIdx(i, M - 1), ImIdx(i, M - 1), k2_val(y(1)) - 2 * inv2_hx - 2 * inv2_hy));\n",
      "\t\t\tcoefficients.push_back(Trip(ImIdx(i, M - 1), ImIdx(i + 1, M - 1), inv2_hx));\n",
      "\t\t\tcoefficients.push_back(Trip(ImIdx(i, M - 1), ImIdx(i, M - 2), inv2_hy));\n"
     ]
    }
   ],
   "source": [
    "import re\n",
    "\n",
    "def process_text(text):\n",
    "    new_text = re.sub(r'A\\[(.*?)\\]\\[(.*?)\\] = (.*?);', r'coefficients.push_back(Trip(\\1, \\2, \\3));', text, flags=re.DOTALL)\n",
    "    return new_text\n",
    "\n",
    "# Пример использования\n",
    "text = '''\n",
    "\t\t\tA[ReIdx(i, M - 1)][ReIdx(i - 1, M - 1)] = inv2_hx;\n",
    "\t\t\tA[ReIdx(i, M - 1)][ReIdx(i, M - 1)] = k2_val(y(1)) - 2 * inv2_hx - 2 * inv2_hy;\n",
    "\t\t\tA[ReIdx(i, M - 1)][ReIdx(i + 1, M - 1)] = inv2_hx;\n",
    "\t\t\tA[ReIdx(i, M - 1)][ReIdx(i, M - 2)] = inv2_hy;\n",
    "\n",
    "\t\t\tA[ImIdx(i, M - 1)][ImIdx(i - 1, M - 1)] = inv2_hx;\n",
    "\t\t\tA[ImIdx(i, M - 1)][ImIdx(i, M - 1)] = k2_val(y(1)) - 2 * inv2_hx - 2 * inv2_hy;\n",
    "\t\t\tA[ImIdx(i, M - 1)][ImIdx(i + 1, M - 1)] = inv2_hx;\n",
    "\t\t\tA[ImIdx(i, M - 1)][ImIdx(i, M - 2)] = inv2_hy;'''\n",
    "result = process_text(text)\n",
    "print(result)\n"
   ]
  }
 ],
 "metadata": {
  "kernelspec": {
   "display_name": "Python 3",
   "language": "python",
   "name": "python3"
  },
  "language_info": {
   "codemirror_mode": {
    "name": "ipython",
    "version": 3
   },
   "file_extension": ".py",
   "mimetype": "text/x-python",
   "name": "python",
   "nbconvert_exporter": "python",
   "pygments_lexer": "ipython3",
   "version": "3.12.0"
  }
 },
 "nbformat": 4,
 "nbformat_minor": 2
}
